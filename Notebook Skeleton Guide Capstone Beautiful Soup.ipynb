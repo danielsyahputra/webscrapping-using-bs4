{
 "cells": [
  {
   "cell_type": "markdown",
   "metadata": {},
   "source": [
    "# Capstone Webscrapping using BeautifulSoup\n",
    "\n",
    "This notebook contains guidances & tasks on the data processing for the application\n",
    "\n",
    "## background\n",
    "\n",
    "(Please insert the background here )\n",
    "\n",
    "## Requesting the Data and Creating a BeautifulSoup\n",
    "\n",
    "Let's begin with requesting the web from the site with `get` method."
   ]
  },
  {
   "cell_type": "code",
   "execution_count": 35,
   "metadata": {
    "ExecuteTime": {
     "end_time": "2020-01-13T05:12:23.275508Z",
     "start_time": "2020-01-13T05:12:20.009898Z"
    }
   },
   "outputs": [],
   "source": [
    "import requests\n",
    "\n",
    "url_get = requests.get('https://pusatdata.kontan.co.id/makroekonomi/inflasi')"
   ]
  },
  {
   "cell_type": "markdown",
   "metadata": {},
   "source": [
    "To visualize what exactly you get from the `request.get`, we can use .content so ee what we exactly get, in here i slice it so it won't make our screen full of the html we get from the page. You can delete the slicing if you want to see what we fully get."
   ]
  },
  {
   "cell_type": "code",
   "execution_count": 36,
   "metadata": {
    "ExecuteTime": {
     "end_time": "2020-01-13T05:12:23.290648Z",
     "start_time": "2020-01-13T05:12:23.277650Z"
    }
   },
   "outputs": [
    {
     "data": {
      "text/plain": [
       "b'!DOCTYPE html PUBLIC \"-//W3C//DTD XHTML 1.0 Transitional//EN\" \"http://www.w3.org/TR/xhtml1/DTD/xhtml1-transitional.dtd\">\\n<html xmlns=\"http://www.w3.org/1999/xhtml\">\\n<head>\\n\\t<meta http-equiv=\"Content-Type\" content=\"text/html; charset=utf-8\" />\\n\\t<meta name=\"viewport\" content=\"width=device-width, initial-scale=1.0\">\\n    <link rel=\"shortcut icon\" href=\"//assets.kontan.co.id/favicon.ico\"/>\\n\\t<link rel=\"stylesheet\" href=\"//assets.kontan.co.id/debar/pusatdata/css/font-awesome/css/font-awesome.min.css\">'"
      ]
     },
     "execution_count": 36,
     "metadata": {},
     "output_type": "execute_result"
    }
   ],
   "source": [
    "url_get.content[1:500]"
   ]
  },
  {
   "cell_type": "markdown",
   "metadata": {},
   "source": [
    "As we can see we get a very unstructured and complex html, which actually contains the codes needed to show the webpages on your web browser. But we as human still confused what and where we can use that piece of code, so here where we use the beautifulsoup. Beautiful soup class will result a beautifulsoup object. Beautiful Soup transforms a complex HTML document into a complex tree of Python objects. \n",
    "\n",
    "Let's make Beautiful soup object and feel free to explore the object here."
   ]
  },
  {
   "cell_type": "code",
   "execution_count": 37,
   "metadata": {
    "ExecuteTime": {
     "end_time": "2020-01-13T05:12:23.808122Z",
     "start_time": "2020-01-13T05:12:23.292610Z"
    }
   },
   "outputs": [],
   "source": [
    "from bs4 import BeautifulSoup \n",
    "\n",
    "soup = BeautifulSoup(url_get.content,\"html.parser\")"
   ]
  },
  {
   "cell_type": "markdown",
   "metadata": {},
   "source": [
    "## Finding the right key to scrap the data & Extracting the right information"
   ]
  },
  {
   "cell_type": "markdown",
   "metadata": {},
   "source": [
    "Find the key and put the key into the `.find()` Put all the exploring the right key at this cell. (please change this markdown with your explanation)"
   ]
  },
  {
   "cell_type": "code",
   "execution_count": 38,
   "metadata": {
    "ExecuteTime": {
     "end_time": "2020-01-13T05:12:23.878904Z",
     "start_time": "2020-01-13T05:12:23.854974Z"
    }
   },
   "outputs": [
    {
     "name": "stdout",
     "output_type": "stream",
     "text": [
      "div class=\"baris-scroll\">\n",
      " <div class=\"tabel-body\">\n",
      "  <div class=\"kol-konten3-1\">\n",
      "   31/12/2021\n",
      "  </div>\n",
      "  <div class=\"kol-konten3-2\">\n",
      "   <div class=\"w-30-px txtright center-max\">\n",
      "    0,57\n",
      "   </div>\n",
      "  </div>\n",
      "  <div class=\"kol-konten3-3\">\n",
      "   <div class=\"w-30-px txtright center-max\">\n",
      "    1,87\n",
      "   </div>\n",
      "  </div>\n",
      " </div>\n",
      " <div class=\"tabel-body\">\n",
      "  <div class=\"kol-konten3-1\">\n",
      "   30/11/2021\n",
      "  </div>\n",
      "  <div class=\"kol-konten3-2\">\n",
      "   <div class=\"w-30-px txtright center-max\">\n",
      "    0,37\n",
      "   </div>\n",
      "  </div\n"
     ]
    }
   ],
   "source": [
    "table = soup.find('div', attrs={'class':'baris-scroll'})\n",
    "print(table.prettify()[1:500])"
   ]
  },
  {
   "cell_type": "markdown",
   "metadata": {},
   "source": [
    "Finding row length."
   ]
  },
  {
   "cell_type": "code",
   "execution_count": 39,
   "metadata": {},
   "outputs": [
    {
     "data": {
      "text/plain": [
       "50"
      ]
     },
     "execution_count": 39,
     "metadata": {},
     "output_type": "execute_result"
    }
   ],
   "source": [
    "rows = table.find_all('div', attrs={'class':'kol-konten3-1'})\n",
    "row_length = len(rows)\n",
    "row_length"
   ]
  },
  {
   "cell_type": "markdown",
   "metadata": {},
   "source": [
    "Do the scrapping process here (please change this markdown with your explanation)"
   ]
  },
  {
   "cell_type": "code",
   "execution_count": 40,
   "metadata": {
    "ExecuteTime": {
     "end_time": "2020-01-13T05:12:24.008256Z",
     "start_time": "2020-01-13T05:12:23.980358Z"
    }
   },
   "outputs": [
    {
     "data": {
      "text/plain": [
       "[('30/11/2021', '0,37', '1,75'),\n",
       " ('31/10/2021', '0,12', '1,66'),\n",
       " ('30/09/2021', '0,04', '1,60'),\n",
       " ('31/08/2021', '0,03', '1,59'),\n",
       " ('31/07/2021', '0,08', '1,52'),\n",
       " ('30/06/2021', '0,16', '1,33'),\n",
       " ('31/05/2021', '0,32', '1,68'),\n",
       " ('30/04/2021', '0,13', '1,42'),\n",
       " ('31/03/2021', '0,08', '1,37'),\n",
       " ('28/02/2021', '0,10', '1.38'),\n",
       " ('31/01/2021', '0,26', '1.55'),\n",
       " ('31/12/2020', '0,45', '1.68'),\n",
       " ('30/11/2020', '0,28', '1.59'),\n",
       " ('31/10/2020', '0,07', '1.44'),\n",
       " ('30/09/2020', '0,05', '1,42'),\n",
       " ('31/08/2020', '0.05', '1.32'),\n",
       " ('31/07/2020', '0.04', '1.54'),\n",
       " ('30/06/2020', '0.18', '1.96'),\n",
       " ('31/05/2020', '0,07', '2,19'),\n",
       " ('30/04/2020', '0,08', '2,67'),\n",
       " ('31/03/2020', '0.10', '2.96'),\n",
       " ('28/02/2020', '0,28', '2,98'),\n",
       " ('31/01/2020', '0,39', '2,68'),\n",
       " ('31/12/2019', '0,34', '2,27'),\n",
       " ('30/11/2019', '0,14', '3'),\n",
       " ('31/10/2019', '0,02', '2,22'),\n",
       " ('30/09/2019', '-0,27', '3,39'),\n",
       " ('31/08/2019', '0,12', '3,49'),\n",
       " ('31/07/2019', '0,31', '3,32'),\n",
       " ('30/06/2019', '0,55', '3,28'),\n",
       " ('31/05/2019', '0,68', '3,32'),\n",
       " ('30/04/2019', '0,44', '2,83'),\n",
       " ('31/03/2019', '0,11', '2,48'),\n",
       " ('28/02/2019', '-0,08', '2,57'),\n",
       " ('31/01/2019', '0,32', '2,82'),\n",
       " ('31/12/2018', '0,62', '3,13'),\n",
       " ('30/11/2018', '0,27', '3,23'),\n",
       " ('31/10/2018', '0,28', '3,16'),\n",
       " ('30/09/2018', '-0,18', '2,88'),\n",
       " ('31/08/2018', '-0,05', '3,20'),\n",
       " ('31/07/2018', '0,28', '3,18'),\n",
       " ('30/06/2018', '0,59', '3,12'),\n",
       " ('31/05/2018', '0,21', '2,75'),\n",
       " ('30/04/2018', '0,10', '3,41'),\n",
       " ('29/03/2018', '0,20', '3,4'),\n",
       " ('28/02/2018', '0,17', '3,18'),\n",
       " ('31/01/2018', '0,62', '3,25'),\n",
       " ('31/12/2017', '0,61', '3,5'),\n",
       " ('30/11/2017', '0,20', '3,30')]"
      ]
     },
     "execution_count": 40,
     "metadata": {},
     "output_type": "execute_result"
    }
   ],
   "source": [
    "temp = [] #initiating a tuple\n",
    "\n",
    "for i in range(1, row_length):\n",
    "\n",
    "    # Get period of row-i\n",
    "    periode = table.findAll('div', attrs={'class': 'kol-konten3-1'})[i].text\n",
    "\n",
    "    # Get inflation mom of row-i\n",
    "    inflation_mom = table.findAll('div', attrs={'class': 'kol-konten3-2'})[i].text\n",
    "    inflation_mom = inflation_mom.strip()\n",
    "\n",
    "    # Get inflation yoy of row-i\n",
    "    inflation_yoy = table.findAll('div', attrs={'class': 'kol-konten3-3'})[i].text\n",
    "    inflation_yoy = inflation_yoy.strip()\n",
    "\n",
    "    temp.append((periode, inflation_mom, inflation_yoy))\n",
    "    \n",
    "temp "
   ]
  },
  {
   "cell_type": "markdown",
   "metadata": {},
   "source": [
    "## Creating data frame & Data wrangling"
   ]
  },
  {
   "cell_type": "markdown",
   "metadata": {},
   "source": [
    "Put the array into dataframe"
   ]
  },
  {
   "cell_type": "code",
   "execution_count": 41,
   "metadata": {
    "ExecuteTime": {
     "end_time": "2020-01-13T05:12:41.517372Z",
     "start_time": "2020-01-13T05:12:29.130015Z"
    }
   },
   "outputs": [
    {
     "data": {
      "text/html": [
       "<div>\n",
       "<style scoped>\n",
       "    .dataframe tbody tr th:only-of-type {\n",
       "        vertical-align: middle;\n",
       "    }\n",
       "\n",
       "    .dataframe tbody tr th {\n",
       "        vertical-align: top;\n",
       "    }\n",
       "\n",
       "    .dataframe thead th {\n",
       "        text-align: right;\n",
       "    }\n",
       "</style>\n",
       "<table border=\"1\" class=\"dataframe\">\n",
       "  <thead>\n",
       "    <tr style=\"text-align: right;\">\n",
       "      <th></th>\n",
       "      <th>period</th>\n",
       "      <th>inflation_mom</th>\n",
       "      <th>inflation_yoy</th>\n",
       "    </tr>\n",
       "  </thead>\n",
       "  <tbody>\n",
       "    <tr>\n",
       "      <th>0</th>\n",
       "      <td>30/11/2021</td>\n",
       "      <td>0,37</td>\n",
       "      <td>1,75</td>\n",
       "    </tr>\n",
       "    <tr>\n",
       "      <th>1</th>\n",
       "      <td>31/10/2021</td>\n",
       "      <td>0,12</td>\n",
       "      <td>1,66</td>\n",
       "    </tr>\n",
       "    <tr>\n",
       "      <th>2</th>\n",
       "      <td>30/09/2021</td>\n",
       "      <td>0,04</td>\n",
       "      <td>1,60</td>\n",
       "    </tr>\n",
       "    <tr>\n",
       "      <th>3</th>\n",
       "      <td>31/08/2021</td>\n",
       "      <td>0,03</td>\n",
       "      <td>1,59</td>\n",
       "    </tr>\n",
       "    <tr>\n",
       "      <th>4</th>\n",
       "      <td>31/07/2021</td>\n",
       "      <td>0,08</td>\n",
       "      <td>1,52</td>\n",
       "    </tr>\n",
       "  </tbody>\n",
       "</table>\n",
       "</div>"
      ],
      "text/plain": [
       "       period inflation_mom inflation_yoy\n",
       "0  30/11/2021          0,37          1,75\n",
       "1  31/10/2021          0,12          1,66\n",
       "2  30/09/2021          0,04          1,60\n",
       "3  31/08/2021          0,03          1,59\n",
       "4  31/07/2021          0,08          1,52"
      ]
     },
     "execution_count": 41,
     "metadata": {},
     "output_type": "execute_result"
    }
   ],
   "source": [
    "import pandas as pd\n",
    "\n",
    "df = pd.DataFrame(data=temp, columns=['period','inflation_mom','inflation_yoy'])\n",
    "df.head()"
   ]
  },
  {
   "cell_type": "markdown",
   "metadata": {},
   "source": [
    "Do the data cleaning here (please change this markdown with your explanation of what you do for data wrangling)"
   ]
  },
  {
   "cell_type": "code",
   "execution_count": 42,
   "metadata": {
    "ExecuteTime": {
     "end_time": "2020-01-13T05:12:59.165559Z",
     "start_time": "2020-01-13T05:12:58.910012Z"
    }
   },
   "outputs": [
    {
     "data": {
      "text/html": [
       "<div>\n",
       "<style scoped>\n",
       "    .dataframe tbody tr th:only-of-type {\n",
       "        vertical-align: middle;\n",
       "    }\n",
       "\n",
       "    .dataframe tbody tr th {\n",
       "        vertical-align: top;\n",
       "    }\n",
       "\n",
       "    .dataframe thead th {\n",
       "        text-align: right;\n",
       "    }\n",
       "</style>\n",
       "<table border=\"1\" class=\"dataframe\">\n",
       "  <thead>\n",
       "    <tr style=\"text-align: right;\">\n",
       "      <th></th>\n",
       "      <th>period</th>\n",
       "      <th>inflation_mom</th>\n",
       "      <th>inflation_yoy</th>\n",
       "    </tr>\n",
       "  </thead>\n",
       "  <tbody>\n",
       "    <tr>\n",
       "      <th>0</th>\n",
       "      <td>2021-11-30</td>\n",
       "      <td>0.37</td>\n",
       "      <td>1.75</td>\n",
       "    </tr>\n",
       "    <tr>\n",
       "      <th>1</th>\n",
       "      <td>2021-10-31</td>\n",
       "      <td>0.12</td>\n",
       "      <td>1.66</td>\n",
       "    </tr>\n",
       "    <tr>\n",
       "      <th>2</th>\n",
       "      <td>2021-09-30</td>\n",
       "      <td>0.04</td>\n",
       "      <td>1.60</td>\n",
       "    </tr>\n",
       "    <tr>\n",
       "      <th>3</th>\n",
       "      <td>2021-08-31</td>\n",
       "      <td>0.03</td>\n",
       "      <td>1.59</td>\n",
       "    </tr>\n",
       "    <tr>\n",
       "      <th>4</th>\n",
       "      <td>2021-07-31</td>\n",
       "      <td>0.08</td>\n",
       "      <td>1.52</td>\n",
       "    </tr>\n",
       "  </tbody>\n",
       "</table>\n",
       "</div>"
      ],
      "text/plain": [
       "      period  inflation_mom  inflation_yoy\n",
       "0 2021-11-30           0.37           1.75\n",
       "1 2021-10-31           0.12           1.66\n",
       "2 2021-09-30           0.04           1.60\n",
       "3 2021-08-31           0.03           1.59\n",
       "4 2021-07-31           0.08           1.52"
      ]
     },
     "execution_count": 42,
     "metadata": {},
     "output_type": "execute_result"
    }
   ],
   "source": [
    "df['inflation_mom'] = df['inflation_mom'].str.replace(',', '.').astype('float64')\n",
    "df['inflation_yoy'] = df['inflation_yoy'].str.replace(',', '.').astype('float64')\n",
    "df['period'] = df['period'].astype('datetime64')\n",
    "df.head()"
   ]
  },
  {
   "cell_type": "code",
   "execution_count": 43,
   "metadata": {},
   "outputs": [
    {
     "data": {
      "text/plain": [
       "period           datetime64[ns]\n",
       "inflation_mom           float64\n",
       "inflation_yoy           float64\n",
       "dtype: object"
      ]
     },
     "execution_count": 43,
     "metadata": {},
     "output_type": "execute_result"
    }
   ],
   "source": [
    "df.dtypes"
   ]
  },
  {
   "cell_type": "markdown",
   "metadata": {},
   "source": [
    "Data visualisation (please change this markdown with your explanation of what you do for data wrangling)"
   ]
  },
  {
   "cell_type": "code",
   "execution_count": 44,
   "metadata": {},
   "outputs": [],
   "source": [
    "df = df.set_index('period')"
   ]
  },
  {
   "cell_type": "markdown",
   "metadata": {},
   "source": [
    "### Implementing your webscrapping to the flask dashboard\n",
    "\n",
    "- Copy paste all of your web scrapping process to the desired position on the `app.py`\n",
    "- Changing the title of the dasboard at `index.html`"
   ]
  },
  {
   "cell_type": "markdown",
   "metadata": {},
   "source": [
    "## Finishing This Notebook with Your Analysis and Conclusion\n",
    "\n",
    "First you can do start with making the data visualisation. "
   ]
  },
  {
   "cell_type": "code",
   "execution_count": 45,
   "metadata": {
    "ExecuteTime": {
     "end_time": "2020-01-13T05:20:56.208237Z",
     "start_time": "2020-01-13T05:20:56.076043Z"
    }
   },
   "outputs": [
    {
     "data": {
      "text/plain": [
       "<AxesSubplot:xlabel='period'>"
      ]
     },
     "execution_count": 45,
     "metadata": {},
     "output_type": "execute_result"
    },
    {
     "data": {
      "image/png": "[encoded data removed]",
      "text/plain": [
       "<Figure size 432x288 with 1 Axes>"
      ]
     },
     "metadata": {
      "needs_background": "light"
     },
     "output_type": "display_data"
    }
   ],
   "source": [
    "df.plot()"
   ]
  },
  {
   "cell_type": "markdown",
   "metadata": {},
   "source": [
    "\n",
    "(Put your analysis and conclusion here.)"
   ]
  },
  {
   "cell_type": "markdown",
   "metadata": {},
   "source": [
    "### Extra Challange\n",
    "\n",
    "This will be not included to the scoring. \n",
    "\n",
    "- You can create additional analysis from the data.\n",
    "- Implement it to the dashboard with at `app.py` dan `index.html`."
   ]
  }
 ],
 "metadata": {
  "interpreter": {
   "hash": "35bfdf8e779983adf9968bf81be4d4df806e80f701589a7eeb27481c616d2292"
  },
  "kernelspec": {
   "display_name": "Python 3.6.2 64-bit",
   "language": "python",
   "name": "python3"
  },
  "language_info": {
   "codemirror_mode": {
    "name": "ipython",
    "version": 3
   },
   "file_extension": ".py",
   "mimetype": "text/x-python",
   "name": "python",
   "nbconvert_exporter": "python",
   "pygments_lexer": "ipython3",
   "version": "3.8.10"
  }
 },
 "nbformat": 4,
 "nbformat_minor": 2
}
